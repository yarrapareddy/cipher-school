{
  "nbformat": 4,
  "nbformat_minor": 0,
  "metadata": {
    "colab": {
      "provenance": []
    },
    "kernelspec": {
      "name": "python3",
      "display_name": "Python 3"
    },
    "language_info": {
      "name": "python"
    }
  },
  "cells": [
    {
      "cell_type": "code",
      "source": [
        "import pandas as pd\n",
        "import nltk\n",
        "from sklearn.feature_extraction.text import TfidfVectorizer\n",
        "from sklearn.naive_bayes import MultinomialNB\n",
        "from sklearn.pipeline import make_pipeline\n",
        "from sklearn.model_selection import train_test_split\n",
        "import dash\n",
        "from dash import dcc, html\n",
        "from dash.dependencies import Input, Output\n",
        "import random\n"
      ],
      "metadata": {
        "id": "tNHkCcnAqwb6"
      },
      "execution_count": 4,
      "outputs": []
    },
    {
      "cell_type": "code",
      "source": [
        "# Load the dataset\n",
        "\n",
        "data = pd.read_csv('/content/chatbot_dataset.csv')"
      ],
      "metadata": {
        "id": "1m5IGy_XrGe_"
      },
      "execution_count": 6,
      "outputs": []
    },
    {
      "cell_type": "code",
      "source": [
        "# Preprocess the data\n",
        "\n",
        "nltk.download('punkt')\n",
        "data['Question'] = data['Question'].apply(lambda x: ' '.join(nltk.word_tokenize(x.lower())))"
      ],
      "metadata": {
        "colab": {
          "base_uri": "https://localhost:8080/"
        },
        "id": "MPseNgtBrlaj",
        "outputId": "271307d5-dc5a-4379-bf22-dad9ea8db7ee"
      },
      "execution_count": 7,
      "outputs": [
        {
          "output_type": "stream",
          "name": "stderr",
          "text": [
            "[nltk_data] Downloading package punkt to /root/nltk_data...\n",
            "[nltk_data]   Unzipping tokenizers/punkt.zip.\n"
          ]
        }
      ]
    },
    {
      "cell_type": "code",
      "source": [
        "# Split the data into training and test sets\n",
        "\n",
        "X_train, X_test, y_train, y_test = train_test_split(data['Question'], data['Answer'], test_size=0.2, random_state=42)\n"
      ],
      "metadata": {
        "id": "Nlbz8ZgZrt8K"
      },
      "execution_count": 8,
      "outputs": []
    },
    {
      "cell_type": "code",
      "source": [
        "# Create a model pipeline\n",
        "model = make_pipeline(TfidfVectorizer(), MultinomialNB())\n",
        "model.fit(X_train, y_train)\n",
        "\n",
        "def get_response(question):\n",
        "    question = ' '.join(nltk.word_tokenize(question.lower()))\n",
        "    answer = model.predict([question])[0]\n",
        "    return answer\n"
      ],
      "metadata": {
        "id": "dvSnEfbbr61-"
      },
      "execution_count": 10,
      "outputs": []
    },
    {
      "cell_type": "code",
      "source": [
        "# Initialize the Dash app\n",
        "app = dash.Dash(__name__)\n"
      ],
      "metadata": {
        "id": "yyxo3J4lr_pu"
      },
      "execution_count": 11,
      "outputs": []
    },
    {
      "cell_type": "code",
      "source": [
        "#Define the layout\n",
        "app.layout = html.Div([\n",
        "    html.H1(\"Chatbot\", style={'textAlign': 'center'}),\n",
        "    dcc.Textarea(\n",
        "        id='user-input',\n",
        "        value='Type your question here...',\n",
        "        style={'width': '100%', 'height': 100}\n",
        "    ),\n",
        "    html.Button('Submit', id='submit-button', n_clicks=0),\n",
        "    html.Div(id='chatbot-output', style={'padding': '10px'})\n",
        "])\n"
      ],
      "metadata": {
        "id": "wSzgv-Z4sJlc"
      },
      "execution_count": 13,
      "outputs": []
    },
    {
      "cell_type": "code",
      "source": [
        "# Define callback to update chatbot response\n",
        "@app.callback(\n",
        "    Output('chatbot-output', 'children'),\n",
        "    Input('submit-button', 'n_clicks'),\n",
        "    [dash.dependencies.State('user-input', 'value')]\n",
        ")\n",
        "def update_output(n_clicks, user_input):\n",
        "    if n_clicks > 0:\n",
        "        response = get_response(user_input)\n",
        "        return html.Div([\n",
        "            html.P(f\"You: {user_input}\", style={'margin': '10px'}),\n",
        "            html.P(f\"Bot: {response}\", style={'margin': '10px', 'backgroundColor': '#f0f0f0', 'padding': '10px', 'borderRadius': '5px'})\n",
        "        ])\n",
        "    return \"Ask me something!\""
      ],
      "metadata": {
        "id": "HPeaemomsUDg"
      },
      "execution_count": 14,
      "outputs": []
    },
    {
      "cell_type": "code",
      "source": [
        "# Run the app\n",
        "if __name__ == '__main__':\n",
        "    app.run_server(debug=True)\n"
      ],
      "metadata": {
        "colab": {
          "base_uri": "https://localhost:8080/",
          "height": 672
        },
        "id": "v0CkF1Z0sZMD",
        "outputId": "ae7ca1dd-e43b-4225-8f66-cf7f613ff51d"
      },
      "execution_count": 15,
      "outputs": [
        {
          "output_type": "display_data",
          "data": {
            "text/plain": [
              "<IPython.core.display.Javascript object>"
            ],
            "application/javascript": [
              "(async (port, path, width, height, cache, element) => {\n",
              "    if (!google.colab.kernel.accessAllowed && !cache) {\n",
              "      return;\n",
              "    }\n",
              "    element.appendChild(document.createTextNode(''));\n",
              "    const url = await google.colab.kernel.proxyPort(port, {cache});\n",
              "    const iframe = document.createElement('iframe');\n",
              "    iframe.src = new URL(path, url).toString();\n",
              "    iframe.height = height;\n",
              "    iframe.width = width;\n",
              "    iframe.style.border = 0;\n",
              "    iframe.allow = [\n",
              "        'accelerometer',\n",
              "        'autoplay',\n",
              "        'camera',\n",
              "        'clipboard-read',\n",
              "        'clipboard-write',\n",
              "        'gyroscope',\n",
              "        'magnetometer',\n",
              "        'microphone',\n",
              "        'serial',\n",
              "        'usb',\n",
              "        'xr-spatial-tracking',\n",
              "    ].join('; ');\n",
              "    element.appendChild(iframe);\n",
              "  })(8050, \"/\", \"100%\", 650, false, window.element)"
            ]
          },
          "metadata": {}
        }
      ]
    }
  ]
}